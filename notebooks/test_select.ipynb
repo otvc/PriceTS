{
 "cells": [
  {
   "cell_type": "code",
   "execution_count": 3,
   "metadata": {},
   "outputs": [],
   "source": [
    "import pandas as pd\n",
    "import numpy as np\n",
    "\n",
    "from matplotlib import pyplot as plt"
   ]
  },
  {
   "cell_type": "code",
   "execution_count": 4,
   "metadata": {},
   "outputs": [],
   "source": [
    "import torch\n",
    "from torch import nn\n",
    "from torch.utils.data import Dataset, DataLoader"
   ]
  },
  {
   "cell_type": "code",
   "execution_count": 5,
   "metadata": {},
   "outputs": [],
   "source": [
    "class MilkTSDataset(Dataset):\n",
    "    '''\n",
    "    Use this Dataset for particular `class_name`, `store`, `item`\n",
    "    And use ConcatDataset for concatination datasets from several `class_name` and `store`\n",
    "    \n",
    "    `params`:\n",
    "        `class_name`:str: type names which should be choosed (value should be contained in column `class_name` from `data`);\n",
    "        `store`:int: id of store timeserieses of which we want to create (value should be contained in column `store` from `data`);\n",
    "        `item`:int: id of product timeserieses of which we want to create (value should be contained in column `item` from `data`);\n",
    "        `data`:pd.DataFrame: cleaned dataframe;\n",
    "        `target`:str: target column which contained in `data`;\n",
    "        `n_prev_days`:int: value of lag;\n",
    "        `features`:list[str]: which features we should return to output.\n",
    "    '''\n",
    "    def __init__(self, class_name:str, store:int, item:int, data:pd.DataFrame,\n",
    "                 target:str = 'price', n_prev_days:int = 5,\n",
    "                 features:list[str] = ['cost', 'price', 'sales_units', 'sales_values', 'wasted_units']):\n",
    "        self.features = features\n",
    "        self.n_prev_days = n_prev_days\n",
    "        self.target = target\n",
    "        \n",
    "        self.data = data[(data['class_name'] == class_name) & (data['store'] == store) & (data['item'] == item)]\n",
    "        self.total_count = max(0, len(self.data) - n_prev_days)\n",
    "    \n",
    "    def __len__(self):\n",
    "        return self.total_count\n",
    "    \n",
    "    def __getitem__(self, idx):\n",
    "        output = {'target_price':self.data.iloc[idx + self.n_prev_days][self.target]}\n",
    "        output = dict(self.data[self.features].iloc[idx:idx + self.n_prev_days].to_dict('list'), **output)\n",
    "        return output"
   ]
  },
  {
   "cell_type": "code",
   "execution_count": 14,
   "metadata": {},
   "outputs": [],
   "source": [
    "train_ds = torch.load('../../data/input/train_dataset.pt')"
   ]
  },
  {
   "cell_type": "code",
   "execution_count": 2,
   "metadata": {},
   "outputs": [
    {
     "name": "stderr",
     "output_type": "stream",
     "text": [
      "/usr/lib/python3/dist-packages/pkg_resources/__init__.py:116: PkgResourcesDeprecationWarning: 1.1build1 is an invalid version and will not be supported in a future release\n",
      "  warnings.warn(\n",
      "/usr/lib/python3/dist-packages/pkg_resources/__init__.py:116: PkgResourcesDeprecationWarning: 0.1.43ubuntu1 is an invalid version and will not be supported in a future release\n",
      "  warnings.warn(\n",
      "/usr/lib/python3/dist-packages/pkg_resources/__init__.py:116: PkgResourcesDeprecationWarning: 1.1build1 is an invalid version and will not be supported in a future release\n",
      "  warnings.warn(\n",
      "/usr/lib/python3/dist-packages/pkg_resources/__init__.py:116: PkgResourcesDeprecationWarning: 0.1.43ubuntu1 is an invalid version and will not be supported in a future release\n",
      "  warnings.warn(\n"
     ]
    }
   ],
   "source": [
    "from neuralprophet import NeuralProphet"
   ]
  },
  {
   "cell_type": "code",
   "execution_count": 259,
   "metadata": {},
   "outputs": [],
   "source": [
    "train_df = train_ds.datasets[0].data.rename(columns={'date': 'ds',\n",
    "                                                     'sales_units': 'y'})"
   ]
  },
  {
   "cell_type": "code",
   "execution_count": 260,
   "metadata": {},
   "outputs": [],
   "source": [
    "test_ds = torch.load('../../data/input/test_dataset.pt')\n",
    "test_df = test_ds.datasets[0].data.rename(columns={'date': 'ds',\n",
    "                                                    'sales_units': 'y'})"
   ]
  },
  {
   "cell_type": "code",
   "execution_count": 261,
   "metadata": {},
   "outputs": [
    {
     "data": {
      "text/plain": [
       "Int64Index([1898, 5465,  457, 3078, 4003, 6052, 1768, 3597, 3375,  747,  741,\n",
       "            4449,  338, 4100, 1345, 4236, 1760, 2825, 1584, 1669, 6329, 4226,\n",
       "            3654, 2946, 4797, 2447],\n",
       "           dtype='int64')"
      ]
     },
     "execution_count": 261,
     "metadata": {},
     "output_type": "execute_result"
    }
   ],
   "source": [
    "test_df.index"
   ]
  },
  {
   "cell_type": "code",
   "execution_count": 262,
   "metadata": {},
   "outputs": [],
   "source": [
    "features = list(set(train_df.columns) - set(['class_name','y','ds', 'store',\n",
    "                                             'price_zone_&_class_name', 'item']))\n",
    "all_cols = features + ['ds', 'y']\n",
    "train_df = train_df[all_cols]\n",
    "train_df.set_index('ds',drop=True,inplace=True)\n",
    "train_df=train_df.shift(periods=1)\n",
    "train_df=train_df.iloc[1:]\n",
    "train_df.reset_index(inplace=True)\n",
    "\n",
    "\n",
    "test_df = test_df[all_cols]\n",
    "test_df.set_index('ds',drop=True,inplace=True)\n",
    "test_df=test_df.shift(periods=1)\n",
    "test_df=test_df.iloc[1:]\n",
    "test_df.reset_index(inplace=True)"
   ]
  },
  {
   "cell_type": "code",
   "execution_count": 154,
   "metadata": {},
   "outputs": [
    {
     "data": {
      "text/plain": [
       "(['cost',\n",
       "  'StoreInventory',\n",
       "  'price',\n",
       "  'sales_value',\n",
       "  'sales_cost_y',\n",
       "  'sales_cost_x',\n",
       "  'ds',\n",
       "  'y'],\n",
       " ['cost',\n",
       "  'StoreInventory',\n",
       "  'price',\n",
       "  'sales_value',\n",
       "  'sales_cost_y',\n",
       "  'sales_cost_x'])"
      ]
     },
     "execution_count": 154,
     "metadata": {},
     "output_type": "execute_result"
    }
   ],
   "source": [
    "all_cols,features"
   ]
  },
  {
   "cell_type": "code",
   "execution_count": 265,
   "metadata": {},
   "outputs": [
    {
     "name": "stderr",
     "output_type": "stream",
     "text": [
      "WARNING - (NP.forecaster.fit) - When Global modeling with local normalization, metrics are displayed in normalized scale.\n",
      "WARNING - (NP.df_utils.check_single_dataframe) - Encountered future regressor with only unique values in training set. Variable will be removed for global modeling if this is true for all time series.\n",
      "WARNING - (NP.df_utils.check_single_dataframe) - Encountered future regressor with only unique values in training set. Variable will be removed for global modeling if this is true for all time series.\n",
      "WARNING - (NP.df_utils.check_dataframe) - Encountered future regressor with only unique values in training set across all IDs.Automatically removed variable.\n",
      "WARNING - (NP.df_utils.check_dataframe) - Encountered future regressor with only unique values in training set across all IDs.Automatically removed variable.\n",
      "WARNING - (NP.data.processing._check_dataframe) - Removing regressor price because it is not present in the data.\n",
      "WARNING - (NP.data.processing._check_dataframe) - Removing regressor cost because it is not present in the data.\n",
      "INFO - (NP.df_utils._infer_frequency) - Major frequency D corresponds to 90.0% of the data.\n",
      "INFO - (NP.df_utils._infer_frequency) - Defined frequency is equal to major frequency - D\n",
      "INFO - (NP.config.init_data_params) - Setting normalization to global as only one dataframe provided for training.\n",
      "INFO - (NP.utils.set_auto_seasonalities) - Disabling yearly seasonality. Run NeuralProphet with yearly_seasonality=True to override this.\n",
      "INFO - (NP.utils.set_auto_seasonalities) - Disabling daily seasonality. Run NeuralProphet with daily_seasonality=True to override this.\n",
      "INFO - (NP.config.set_auto_batch_epoch) - Auto-set batch_size to 16\n",
      "INFO - (NP.config.set_auto_batch_epoch) - Auto-set epochs to 1000\n",
      "WARNING - (NP.config.set_lr_finder_args) - Learning rate finder: The number of batches (3) is too small than the required number for the learning rate finder (203). The results might not be optimal.\n"
     ]
    },
    {
     "data": {
      "application/vnd.jupyter.widget-view+json": {
       "model_id": "8caf2fd55af449a1b1d71b087dfcf0ae",
       "version_major": 2,
       "version_minor": 0
      },
      "text/plain": [
       "Finding best initial lr:   0%|          | 0/203 [00:00<?, ?it/s]"
      ]
     },
     "metadata": {},
     "output_type": "display_data"
    },
    {
     "data": {
      "application/vnd.jupyter.widget-view+json": {
       "model_id": "6ce728acac54495aa30588e7e07135f4",
       "version_major": 2,
       "version_minor": 0
      },
      "text/plain": [
       "Training: 0it [00:00, ?it/s]"
      ]
     },
     "metadata": {},
     "output_type": "display_data"
    }
   ],
   "source": [
    "nprophet_model = NeuralProphet()\n",
    "for feat in features:\n",
    "    nprophet_model.add_future_regressor(feat)\n",
    "metrics = nprophet_model.fit(train_df,\n",
    "                             freq=\"D\")"
   ]
  },
  {
   "cell_type": "code",
   "execution_count": 266,
   "metadata": {},
   "outputs": [
    {
     "name": "stderr",
     "output_type": "stream",
     "text": [
      "INFO - (NP.df_utils._infer_frequency) - Major frequency D corresponds to 96.0% of the data.\n",
      "INFO - (NP.df_utils._infer_frequency) - Defined frequency is equal to major frequency - D\n",
      "INFO - (NP.df_utils.return_df_in_original_format) - Returning df with no ID column\n"
     ]
    }
   ],
   "source": [
    "future_df = nprophet_model.make_future_dataframe(test_df[features+['ds','y']],\n",
    "                                                 regressors_df=test_df[features],\n",
    "                                                 periods = 7,\n",
    "                                                 n_historic_predictions=len(test_df),)"
   ]
  },
  {
   "attachments": {},
   "cell_type": "markdown",
   "metadata": {},
   "source": [
    "preds_df_2 = nprophet_model.m(train_df[['ds', 'y']])"
   ]
  },
  {
   "cell_type": "code",
   "execution_count": 271,
   "metadata": {},
   "outputs": [
    {
     "name": "stderr",
     "output_type": "stream",
     "text": [
      "INFO - (NP.df_utils._infer_frequency) - Major frequency D corresponds to 96.875% of the data.\n",
      "INFO - (NP.df_utils._infer_frequency) - Defined frequency is equal to major frequency - D\n",
      "INFO - (NP.df_utils._infer_frequency) - Major frequency D corresponds to 96.875% of the data.\n",
      "INFO - (NP.df_utils._infer_frequency) - Defined frequency is equal to major frequency - D\n"
     ]
    },
    {
     "data": {
      "application/vnd.jupyter.widget-view+json": {
       "model_id": "08eddf69d7ea473b933241793ed787cc",
       "version_major": 2,
       "version_minor": 0
      },
      "text/plain": [
       "Predicting: 3it [00:00, ?it/s]"
      ]
     },
     "metadata": {},
     "output_type": "display_data"
    },
    {
     "name": "stderr",
     "output_type": "stream",
     "text": [
      "INFO - (NP.df_utils.return_df_in_original_format) - Returning df with no ID column\n"
     ]
    }
   ],
   "source": [
    "preds_df_2 = nprophet_model.predict(future_df[['ds','y', 'StoreInventory', 'sales_value', 'sales_cost_y', 'sales_cost_x']])"
   ]
  },
  {
   "cell_type": "code",
   "execution_count": 272,
   "metadata": {},
   "outputs": [
    {
     "data": {
      "application/vnd.jupyter.widget-view+json": {
       "model_id": "66b662b072ac4744b1cc584e47790fd2",
       "version_major": 2,
       "version_minor": 0
      },
      "text/plain": [
       "FigureWidgetResampler({\n",
       "    'data': [{'fill': 'none',\n",
       "              'line': {'color': 'rgba(45, 146, 255, 1.0)', 'width': 2},\n",
       "              'mode': 'lines',\n",
       "              'name': 'yhat1',\n",
       "              'type': 'scatter',\n",
       "              'uid': '5e4daa0f-9049-4e66-8dbc-5dd95542f50a',\n",
       "              'x': array([datetime.datetime(2023, 2, 15, 0, 0),\n",
       "                          datetime.datetime(2023, 2, 16, 0, 0),\n",
       "                          datetime.datetime(2023, 2, 17, 0, 0),\n",
       "                          datetime.datetime(2023, 2, 18, 0, 0),\n",
       "                          datetime.datetime(2023, 2, 19, 0, 0),\n",
       "                          datetime.datetime(2023, 2, 20, 0, 0),\n",
       "                          datetime.datetime(2023, 2, 21, 0, 0),\n",
       "                          datetime.datetime(2023, 2, 22, 0, 0),\n",
       "                          datetime.datetime(2023, 2, 23, 0, 0),\n",
       "                          datetime.datetime(2023, 2, 24, 0, 0),\n",
       "                          datetime.datetime(2023, 2, 25, 0, 0),\n",
       "                          datetime.datetime(2023, 2, 26, 0, 0),\n",
       "                          datetime.datetime(2023, 2, 27, 0, 0),\n",
       "                          datetime.datetime(2023, 2, 28, 0, 0),\n",
       "                          datetime.datetime(2023, 3, 1, 0, 0),\n",
       "                          datetime.datetime(2023, 3, 2, 0, 0),\n",
       "                          datetime.datetime(2023, 3, 3, 0, 0),\n",
       "                          datetime.datetime(2023, 3, 4, 0, 0),\n",
       "                          datetime.datetime(2023, 3, 5, 0, 0),\n",
       "                          datetime.datetime(2023, 3, 6, 0, 0),\n",
       "                          datetime.datetime(2023, 3, 7, 0, 0),\n",
       "                          datetime.datetime(2023, 3, 8, 0, 0),\n",
       "                          datetime.datetime(2023, 3, 9, 0, 0),\n",
       "                          datetime.datetime(2023, 3, 10, 0, 0),\n",
       "                          datetime.datetime(2023, 3, 11, 0, 0),\n",
       "                          datetime.datetime(2023, 3, 12, 0, 0),\n",
       "                          datetime.datetime(2023, 3, 13, 0, 0),\n",
       "                          datetime.datetime(2023, 3, 14, 0, 0),\n",
       "                          datetime.datetime(2023, 3, 15, 0, 0),\n",
       "                          datetime.datetime(2023, 3, 16, 0, 0),\n",
       "                          datetime.datetime(2023, 3, 17, 0, 0),\n",
       "                          datetime.datetime(2023, 3, 18, 0, 0)], dtype=object),\n",
       "              'y': array([ 2.32404351, 12.49780464,  8.20020294, 12.10316277, 39.53653717,\n",
       "                          -1.10864127,  0.9950844 , 18.9707222 , 14.87147236, 41.64716339,\n",
       "                          15.92585087,  2.66995716, 22.24786949, 14.12141514,  7.06646347,\n",
       "                          11.98163033,  8.61706448,  6.20989656, 16.4801178 ,  9.95977211,\n",
       "                           2.60202861, 10.0335865 , 22.91834831,  1.84108746,  2.8843205 ,\n",
       "                           0.51840001, 12.09568501,  6.29534817, 11.38534927, 38.6401062 ,\n",
       "                          -1.92803955, -0.8223564 ])},\n",
       "             {'marker': {'color': 'black', 'size': 4},\n",
       "              'mode': 'markers',\n",
       "              'name': 'Actual',\n",
       "              'type': 'scatter',\n",
       "              'uid': 'f791a4f0-66df-4c67-9d2d-4853541239aa',\n",
       "              'x': array([datetime.datetime(2023, 2, 15, 0, 0),\n",
       "                          datetime.datetime(2023, 2, 16, 0, 0),\n",
       "                          datetime.datetime(2023, 2, 17, 0, 0),\n",
       "                          datetime.datetime(2023, 2, 18, 0, 0),\n",
       "                          datetime.datetime(2023, 2, 19, 0, 0),\n",
       "                          datetime.datetime(2023, 2, 20, 0, 0),\n",
       "                          datetime.datetime(2023, 2, 21, 0, 0),\n",
       "                          datetime.datetime(2023, 2, 22, 0, 0),\n",
       "                          datetime.datetime(2023, 2, 23, 0, 0),\n",
       "                          datetime.datetime(2023, 2, 24, 0, 0),\n",
       "                          datetime.datetime(2023, 2, 25, 0, 0),\n",
       "                          datetime.datetime(2023, 2, 26, 0, 0),\n",
       "                          datetime.datetime(2023, 2, 27, 0, 0),\n",
       "                          datetime.datetime(2023, 2, 28, 0, 0),\n",
       "                          datetime.datetime(2023, 3, 1, 0, 0),\n",
       "                          datetime.datetime(2023, 3, 2, 0, 0),\n",
       "                          datetime.datetime(2023, 3, 3, 0, 0),\n",
       "                          datetime.datetime(2023, 3, 4, 0, 0),\n",
       "                          datetime.datetime(2023, 3, 5, 0, 0),\n",
       "                          datetime.datetime(2023, 3, 6, 0, 0),\n",
       "                          datetime.datetime(2023, 3, 7, 0, 0),\n",
       "                          datetime.datetime(2023, 3, 8, 0, 0),\n",
       "                          datetime.datetime(2023, 3, 9, 0, 0),\n",
       "                          datetime.datetime(2023, 3, 10, 0, 0),\n",
       "                          datetime.datetime(2023, 3, 11, 0, 0),\n",
       "                          datetime.datetime(2023, 3, 12, 0, 0),\n",
       "                          datetime.datetime(2023, 3, 13, 0, 0),\n",
       "                          datetime.datetime(2023, 3, 14, 0, 0),\n",
       "                          datetime.datetime(2023, 3, 15, 0, 0),\n",
       "                          datetime.datetime(2023, 3, 16, 0, 0),\n",
       "                          datetime.datetime(2023, 3, 17, 0, 0),\n",
       "                          datetime.datetime(2023, 3, 18, 0, 0)], dtype=object),\n",
       "              'y': array([ 3., 13.,  8., 13., 40.,  0.,  2., 19., 18., 40., 17.,  4., 22., 15.,\n",
       "                           8., 13.,  9.,  8., 21., 13.,  6., 11., 24.,  3.,  5., nan, nan, nan,\n",
       "                          nan, nan, nan, nan])}],\n",
       "    'layout': {'autosize': True,\n",
       "               'font': {'size': 10},\n",
       "               'height': 420,\n",
       "               'hovermode': 'x unified',\n",
       "               'margin': {'b': 0, 'l': 0, 'pad': 0, 'r': 10, 't': 10},\n",
       "               'showlegend': True,\n",
       "               'template': '...',\n",
       "               'title': {'font': {'size': 12}},\n",
       "               'width': 700,\n",
       "               'xaxis': {'linewidth': 1.5,\n",
       "                         'mirror': True,\n",
       "                         'rangeselector': {'buttons': [{'count': 7, 'label': '1w', 'step': 'day', 'stepmode': 'backward'},\n",
       "                                                       {'count': 1,\n",
       "                                                        'label': '1m',\n",
       "                                                        'step': 'month',\n",
       "                                                        'stepmode': 'backward'},\n",
       "                                                       {'count': 6,\n",
       "                                                        'label': '6m',\n",
       "                                                        'step': 'month',\n",
       "                                                        'stepmode': 'backward'},\n",
       "                                                       {'count': 1, 'label': '1y', 'step': 'year', 'stepmode': 'backward'},\n",
       "                                                       {'step': 'all'}]},\n",
       "                         'rangeslider': {'visible': True},\n",
       "                         'showline': True,\n",
       "                         'title': {'text': 'ds'},\n",
       "                         'type': 'date'},\n",
       "               'yaxis': {'linewidth': 1.5, 'mirror': True, 'showline': True, 'title': {'text': 'y'}}}\n",
       "})"
      ]
     },
     "execution_count": 272,
     "metadata": {},
     "output_type": "execute_result"
    }
   ],
   "source": [
    "nprophet_model.plot(preds_df_2)"
   ]
  },
  {
   "cell_type": "code",
   "execution_count": null,
   "metadata": {},
   "outputs": [],
   "source": []
  }
 ],
 "metadata": {
  "kernelspec": {
   "display_name": "Python 3",
   "language": "python",
   "name": "python3"
  },
  "language_info": {
   "codemirror_mode": {
    "name": "ipython",
    "version": 3
   },
   "file_extension": ".py",
   "mimetype": "text/x-python",
   "name": "python",
   "nbconvert_exporter": "python",
   "pygments_lexer": "ipython3",
   "version": "3.10.6"
  },
  "orig_nbformat": 4
 },
 "nbformat": 4,
 "nbformat_minor": 2
}
